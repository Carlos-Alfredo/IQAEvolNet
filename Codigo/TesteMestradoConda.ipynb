{
 "cells": [
  {
   "cell_type": "code",
   "execution_count": 1,
   "metadata": {
    "colab": {
     "base_uri": "https://localhost:8080/"
    },
    "executionInfo": {
     "elapsed": 7810,
     "status": "ok",
     "timestamp": 1688490823308,
     "user": {
      "displayName": "carlos alfredo",
      "userId": "13899691815169459528"
     },
     "user_tz": 180
    },
    "id": "yWZ9L0eN8fQs",
    "outputId": "d4e8d90d-97b3-467e-ca96-1c76fd1d0822"
   },
   "outputs": [],
   "source": [
    "import torchvision\n",
    "import random\n",
    "from PIL import Image\n",
    "import argparse\n",
    "import matplotlib.pyplot as plt\n",
    "import numpy as np\n",
    "import torch\n",
    "from torchvision.transforms import ToPILImage\n",
    "import time\n",
    "import sys\n",
    "import torch.multiprocessing as mp\n",
    "import os\n",
    "# import tensorflow as tf\n",
    "\n",
    "sys.path.insert(1,'C:/Users/carlo/OneDrive/Documentos/GitHub/Mestrado/Codigo/')\n",
    "sys.path.insert(1,'C:/Users/carlo/OneDrive/Documentos/GitHub/Mestrado/Codigo/Fast-SSIM-master')\n",
    "code_path = 'C:/Users/carlo/OneDrive/Documentos/GitHub/Mestrado/Codigo/'\n",
    "\n",
    "path_xray_images = \"C:/Users/carlo/OneDrive/Documentos/GitHub/Mestrado/Codigo/img_teste/\""
   ]
  },
  {
   "cell_type": "code",
   "execution_count": 2,
   "metadata": {
    "colab": {
     "base_uri": "https://localhost:8080/"
    },
    "executionInfo": {
     "elapsed": 1987,
     "status": "ok",
     "timestamp": 1688490828456,
     "user": {
      "displayName": "carlos alfredo",
      "userId": "13899691815169459528"
     },
     "user_tz": 180
    },
    "id": "h0cICW_G98KS",
    "outputId": "326e89d5-78f8-4b87-f802-6ff1c7702fe6"
   },
   "outputs": [
    {
     "name": "stdout",
     "output_type": "stream",
     "text": [
      "load 'C:\\Users\\carlo\\OneDrive\\Documentos\\GitHub\\Mestrado\\Codigo\\Fast-SSIM-master\\ssim.dll'\n"
     ]
    },
    {
     "ename": "FileNotFoundError",
     "evalue": "Could not find module 'C:\\Users\\carlo\\OneDrive\\Documentos\\GitHub\\Mestrado\\Codigo\\Fast-SSIM-master\\ssim.dll' (or one of its dependencies). Try using the full path with constructor syntax.",
     "output_type": "error",
     "traceback": [
      "\u001b[1;31m---------------------------------------------------------------------------\u001b[0m",
      "\u001b[1;31mFileNotFoundError\u001b[0m                         Traceback (most recent call last)",
      "Cell \u001b[1;32mIn[2], line 3\u001b[0m\n\u001b[0;32m      1\u001b[0m \u001b[38;5;28;01mfrom\u001b[39;00m \u001b[38;5;21;01minference\u001b[39;00m \u001b[38;5;28;01mimport\u001b[39;00m image_haze_removel,image_haze_removal\n\u001b[0;32m      2\u001b[0m \u001b[38;5;66;03m# import metric  as  metric\u001b[39;00m\n\u001b[1;32m----> 3\u001b[0m \u001b[38;5;28;01mimport\u001b[39;00m \u001b[38;5;21;01mevolution\u001b[39;00m \u001b[38;5;28;01mas\u001b[39;00m  \u001b[38;5;21;01mevolution\u001b[39;00m\n\u001b[0;32m      4\u001b[0m \u001b[38;5;28;01mimport\u001b[39;00m \u001b[38;5;21;01mimportlib\u001b[39;00m\n\u001b[0;32m      5\u001b[0m \u001b[38;5;28;01mimport\u001b[39;00m \u001b[38;5;21;01mevolution\u001b[39;00m\n",
      "File \u001b[1;32m~\\OneDrive\\Documentos\\GitHub\\Mestrado\\Codigo\\evolution.py:11\u001b[0m\n\u001b[0;32m      9\u001b[0m \u001b[38;5;28;01mimport\u001b[39;00m \u001b[38;5;21;01mlightdehazeNet\u001b[39;00m\n\u001b[0;32m     10\u001b[0m \u001b[38;5;28;01mimport\u001b[39;00m \u001b[38;5;21;01mtime\u001b[39;00m\n\u001b[1;32m---> 11\u001b[0m \u001b[38;5;28;01mfrom\u001b[39;00m \u001b[38;5;21;01mmultiprocess\u001b[39;00m \u001b[38;5;28;01mimport\u001b[39;00m metric_calculation,list_split\n\u001b[0;32m     12\u001b[0m \u001b[38;5;28;01mfrom\u001b[39;00m \u001b[38;5;21;01mconcurrent\u001b[39;00m\u001b[38;5;21;01m.\u001b[39;00m\u001b[38;5;21;01mfutures\u001b[39;00m \u001b[38;5;28;01mimport\u001b[39;00m ThreadPoolExecutor,ProcessPoolExecutor\n\u001b[0;32m     14\u001b[0m \u001b[38;5;28;01mclass\u001b[39;00m \u001b[38;5;21;01mEvolutionaryProcess\u001b[39;00m:\n",
      "File \u001b[1;32m~\\OneDrive\\Documentos\\GitHub\\Mestrado\\Codigo\\multiprocess.py:6\u001b[0m\n\u001b[0;32m      4\u001b[0m \u001b[38;5;28;01mimport\u001b[39;00m \u001b[38;5;21;01mnumpy\u001b[39;00m \u001b[38;5;28;01mas\u001b[39;00m \u001b[38;5;21;01mnp\u001b[39;00m\n\u001b[0;32m      5\u001b[0m \u001b[38;5;28;01mfrom\u001b[39;00m \u001b[38;5;21;01mtorchvision\u001b[39;00m\u001b[38;5;21;01m.\u001b[39;00m\u001b[38;5;21;01mtransforms\u001b[39;00m \u001b[38;5;28;01mimport\u001b[39;00m ToPILImage\n\u001b[1;32m----> 6\u001b[0m \u001b[38;5;28;01mfrom\u001b[39;00m \u001b[38;5;21;01mssim\u001b[39;00m \u001b[38;5;28;01mimport\u001b[39;00m PSNR,SSIM\n\u001b[0;32m      8\u001b[0m \u001b[38;5;28;01mdef\u001b[39;00m \u001b[38;5;21mlist_split\u001b[39m(original_list,number_of_splits):\n\u001b[0;32m      9\u001b[0m \tsub_list \u001b[38;5;241m=\u001b[39m []\n",
      "File \u001b[1;32mC:\\Users/carlo/OneDrive/Documentos/GitHub/Mestrado/Codigo/Fast-SSIM-master\\ssim.py:14\u001b[0m\n\u001b[0;32m     11\u001b[0m ssim_dll_path \u001b[38;5;241m=\u001b[39m os\u001b[38;5;241m.\u001b[39mpath\u001b[38;5;241m.\u001b[39msplit(os\u001b[38;5;241m.\u001b[39mpath\u001b[38;5;241m.\u001b[39mrealpath(\u001b[38;5;18m__file__\u001b[39m))[\u001b[38;5;241m0\u001b[39m]\n\u001b[0;32m     12\u001b[0m ssim_dll_name \u001b[38;5;241m=\u001b[39m \u001b[38;5;124m'\u001b[39m\u001b[38;5;124mssim.dll\u001b[39m\u001b[38;5;124m'\u001b[39m \u001b[38;5;28;01mif\u001b[39;00m(os\u001b[38;5;241m.\u001b[39mname\u001b[38;5;241m==\u001b[39m\u001b[38;5;124m'\u001b[39m\u001b[38;5;124mnt\u001b[39m\u001b[38;5;124m'\u001b[39m) \u001b[38;5;28;01melse\u001b[39;00m \u001b[38;5;124m'\u001b[39m\u001b[38;5;124mlibssim.so\u001b[39m\u001b[38;5;124m'\u001b[39m\n\u001b[1;32m---> 14\u001b[0m \u001b[38;5;28;01mclass\u001b[39;00m \u001b[38;5;21;01mLoader\u001b[39;00m:\n\u001b[0;32m     16\u001b[0m     \u001b[38;5;28;01mif\u001b[39;00m(os\u001b[38;5;241m.\u001b[39mpath\u001b[38;5;241m.\u001b[39mexists(os\u001b[38;5;241m.\u001b[39mpath\u001b[38;5;241m.\u001b[39mjoin(ssim_dll_path, ssim_dll_name))):\n\u001b[0;32m     17\u001b[0m         print_debug(\u001b[38;5;124m\"\u001b[39m\u001b[38;5;124mload \u001b[39m\u001b[38;5;124m'\u001b[39m\u001b[38;5;132;01m%s\u001b[39;00m\u001b[38;5;124m'\u001b[39m\u001b[38;5;124m\"\u001b[39m\u001b[38;5;241m%\u001b[39m(os\u001b[38;5;241m.\u001b[39mpath\u001b[38;5;241m.\u001b[39mjoin(ssim_dll_path, ssim_dll_name)), textColor\u001b[38;5;241m=\u001b[39m\u001b[38;5;124m'\u001b[39m\u001b[38;5;124mgolden\u001b[39m\u001b[38;5;124m'\u001b[39m)\n",
      "File \u001b[1;32mC:\\Users/carlo/OneDrive/Documentos/GitHub/Mestrado/Codigo/Fast-SSIM-master\\ssim.py:18\u001b[0m, in \u001b[0;36mLoader\u001b[1;34m()\u001b[0m\n\u001b[0;32m     16\u001b[0m \u001b[38;5;28;01mif\u001b[39;00m(os\u001b[38;5;241m.\u001b[39mpath\u001b[38;5;241m.\u001b[39mexists(os\u001b[38;5;241m.\u001b[39mpath\u001b[38;5;241m.\u001b[39mjoin(ssim_dll_path, ssim_dll_name))):\n\u001b[0;32m     17\u001b[0m     print_debug(\u001b[38;5;124m\"\u001b[39m\u001b[38;5;124mload \u001b[39m\u001b[38;5;124m'\u001b[39m\u001b[38;5;132;01m%s\u001b[39;00m\u001b[38;5;124m'\u001b[39m\u001b[38;5;124m\"\u001b[39m\u001b[38;5;241m%\u001b[39m(os\u001b[38;5;241m.\u001b[39mpath\u001b[38;5;241m.\u001b[39mjoin(ssim_dll_path, ssim_dll_name)), textColor\u001b[38;5;241m=\u001b[39m\u001b[38;5;124m'\u001b[39m\u001b[38;5;124mgolden\u001b[39m\u001b[38;5;124m'\u001b[39m)\n\u001b[1;32m---> 18\u001b[0m     dll \u001b[38;5;241m=\u001b[39m \u001b[43mnp\u001b[49m\u001b[38;5;241;43m.\u001b[39;49m\u001b[43mctypeslib\u001b[49m\u001b[38;5;241;43m.\u001b[39;49m\u001b[43mload_library\u001b[49m\u001b[43m(\u001b[49m\u001b[43mssim_dll_name\u001b[49m\u001b[43m,\u001b[49m\u001b[43m \u001b[49m\u001b[43mssim_dll_path\u001b[49m\u001b[43m)\u001b[49m\n\u001b[0;32m     19\u001b[0m \u001b[38;5;28;01melse\u001b[39;00m:\n\u001b[0;32m     20\u001b[0m     print_debug(\u001b[38;5;124m\"\u001b[39m\u001b[38;5;124mload \u001b[39m\u001b[38;5;124m'\u001b[39m\u001b[38;5;132;01m%s\u001b[39;00m\u001b[38;5;124m'\u001b[39m\u001b[38;5;124m FAILED\u001b[39m\u001b[38;5;124m\"\u001b[39m\u001b[38;5;241m%\u001b[39m(os\u001b[38;5;241m.\u001b[39mpath\u001b[38;5;241m.\u001b[39mjoin(ssim_dll_path, ssim_dll_name)), textColor\u001b[38;5;241m=\u001b[39m\u001b[38;5;124m'\u001b[39m\u001b[38;5;124mred\u001b[39m\u001b[38;5;124m'\u001b[39m)\n",
      "File \u001b[1;32m~\\anaconda3\\lib\\site-packages\\numpy\\ctypeslib.py:156\u001b[0m, in \u001b[0;36mload_library\u001b[1;34m(libname, loader_path)\u001b[0m\n\u001b[0;32m    154\u001b[0m \u001b[38;5;28;01mif\u001b[39;00m os\u001b[38;5;241m.\u001b[39mpath\u001b[38;5;241m.\u001b[39mexists(libpath):\n\u001b[0;32m    155\u001b[0m     \u001b[38;5;28;01mtry\u001b[39;00m:\n\u001b[1;32m--> 156\u001b[0m         \u001b[38;5;28;01mreturn\u001b[39;00m \u001b[43mctypes\u001b[49m\u001b[38;5;241;43m.\u001b[39;49m\u001b[43mcdll\u001b[49m\u001b[43m[\u001b[49m\u001b[43mlibpath\u001b[49m\u001b[43m]\u001b[49m\n\u001b[0;32m    157\u001b[0m     \u001b[38;5;28;01mexcept\u001b[39;00m \u001b[38;5;167;01mOSError\u001b[39;00m:\n\u001b[0;32m    158\u001b[0m         \u001b[38;5;66;03m## defective lib file\u001b[39;00m\n\u001b[0;32m    159\u001b[0m         \u001b[38;5;28;01mraise\u001b[39;00m\n",
      "File \u001b[1;32m~\\anaconda3\\lib\\ctypes\\__init__.py:449\u001b[0m, in \u001b[0;36mLibraryLoader.__getitem__\u001b[1;34m(self, name)\u001b[0m\n\u001b[0;32m    448\u001b[0m \u001b[38;5;28;01mdef\u001b[39;00m \u001b[38;5;21m__getitem__\u001b[39m(\u001b[38;5;28mself\u001b[39m, name):\n\u001b[1;32m--> 449\u001b[0m     \u001b[38;5;28;01mreturn\u001b[39;00m \u001b[38;5;28;43mgetattr\u001b[39;49m\u001b[43m(\u001b[49m\u001b[38;5;28;43mself\u001b[39;49m\u001b[43m,\u001b[49m\u001b[43m \u001b[49m\u001b[43mname\u001b[49m\u001b[43m)\u001b[49m\n",
      "File \u001b[1;32m~\\anaconda3\\lib\\ctypes\\__init__.py:444\u001b[0m, in \u001b[0;36mLibraryLoader.__getattr__\u001b[1;34m(self, name)\u001b[0m\n\u001b[0;32m    442\u001b[0m \u001b[38;5;28;01mif\u001b[39;00m name[\u001b[38;5;241m0\u001b[39m] \u001b[38;5;241m==\u001b[39m \u001b[38;5;124m'\u001b[39m\u001b[38;5;124m_\u001b[39m\u001b[38;5;124m'\u001b[39m:\n\u001b[0;32m    443\u001b[0m     \u001b[38;5;28;01mraise\u001b[39;00m \u001b[38;5;167;01mAttributeError\u001b[39;00m(name)\n\u001b[1;32m--> 444\u001b[0m dll \u001b[38;5;241m=\u001b[39m \u001b[38;5;28;43mself\u001b[39;49m\u001b[38;5;241;43m.\u001b[39;49m\u001b[43m_dlltype\u001b[49m\u001b[43m(\u001b[49m\u001b[43mname\u001b[49m\u001b[43m)\u001b[49m\n\u001b[0;32m    445\u001b[0m \u001b[38;5;28msetattr\u001b[39m(\u001b[38;5;28mself\u001b[39m, name, dll)\n\u001b[0;32m    446\u001b[0m \u001b[38;5;28;01mreturn\u001b[39;00m dll\n",
      "File \u001b[1;32m~\\anaconda3\\lib\\ctypes\\__init__.py:374\u001b[0m, in \u001b[0;36mCDLL.__init__\u001b[1;34m(self, name, mode, handle, use_errno, use_last_error, winmode)\u001b[0m\n\u001b[0;32m    371\u001b[0m \u001b[38;5;28mself\u001b[39m\u001b[38;5;241m.\u001b[39m_FuncPtr \u001b[38;5;241m=\u001b[39m _FuncPtr\n\u001b[0;32m    373\u001b[0m \u001b[38;5;28;01mif\u001b[39;00m handle \u001b[38;5;129;01mis\u001b[39;00m \u001b[38;5;28;01mNone\u001b[39;00m:\n\u001b[1;32m--> 374\u001b[0m     \u001b[38;5;28mself\u001b[39m\u001b[38;5;241m.\u001b[39m_handle \u001b[38;5;241m=\u001b[39m \u001b[43m_dlopen\u001b[49m\u001b[43m(\u001b[49m\u001b[38;5;28;43mself\u001b[39;49m\u001b[38;5;241;43m.\u001b[39;49m\u001b[43m_name\u001b[49m\u001b[43m,\u001b[49m\u001b[43m \u001b[49m\u001b[43mmode\u001b[49m\u001b[43m)\u001b[49m\n\u001b[0;32m    375\u001b[0m \u001b[38;5;28;01melse\u001b[39;00m:\n\u001b[0;32m    376\u001b[0m     \u001b[38;5;28mself\u001b[39m\u001b[38;5;241m.\u001b[39m_handle \u001b[38;5;241m=\u001b[39m handle\n",
      "\u001b[1;31mFileNotFoundError\u001b[0m: Could not find module 'C:\\Users\\carlo\\OneDrive\\Documentos\\GitHub\\Mestrado\\Codigo\\Fast-SSIM-master\\ssim.dll' (or one of its dependencies). Try using the full path with constructor syntax."
     ]
    }
   ],
   "source": [
    "from inference import image_haze_removel,image_haze_removal\n",
    "# import metric  as  metric\n",
    "import evolution as  evolution\n",
    "import importlib\n",
    "import evolution\n",
    "import lightdehazeNet\n",
    "from ssim import PSNR,SSIM\n",
    "importlib.reload(evolution)\n",
    "importlib.reload(torch.multiprocessing)\n",
    "if __name__ == '__main__':\n",
    "\t\tmp.set_start_method('spawn',force=True)"
   ]
  },
  {
   "cell_type": "code",
   "execution_count": 3,
   "metadata": {
    "executionInfo": {
     "elapsed": 3,
     "status": "ok",
     "timestamp": 1688490830132,
     "user": {
      "displayName": "carlos alfredo",
      "userId": "13899691815169459528"
     },
     "user_tz": 180
    },
    "id": "TSvY-NWx-HVN"
   },
   "outputs": [],
   "source": [
    "def dehaze_test(image_path,weight):\n",
    "\tmetrics = np.asarray([0,0])\n",
    "\tinference_time = 0\n",
    "\tmetric_time = 0\n",
    "\timage_conversion_time = 0\n",
    "\timage_load_time = 0\n",
    "\tfor input in image_path:\n",
    "\t\tstart = time.time()\n",
    "\t\thazy_input_image = Image.open(input)\n",
    "\t\tend = time.time()\n",
    "\t\timage_load_time += end-start\n",
    "\t\tstart = time.time()\n",
    "\t\tdehaze_image = image_haze_removel(hazy_input_image,weight)\n",
    "\t\tend = time.time()\n",
    "\t\tinference_time += end-start\n",
    "\t\t# torchvision.utils.save_image(dehaze_image, \"dehaze.jpg\")\n",
    "\t\tstart = time.time()\n",
    "\t\ttensor_image = dehaze_image  # Your tensor image\n",
    "\t\ttensor_image = tensor_image.cpu()  # Move tensor to CPU if it's on GPU\n",
    "\t\ttensor_image = tensor_image.squeeze(0)  # Remove the batch dimension if present\n",
    "\n",
    "\t\t# Convert the tensor to a PIL image\n",
    "\t\tto_pil = ToPILImage()\n",
    "\t\tpil_image = to_pil(tensor_image)\n",
    "\t\t# hazy_input_image.show()\n",
    "\t\t# pil_image.show()\n",
    "\n",
    "\t\thazy_input_image = np.array(hazy_input_image)\n",
    "\t\tenhanced_image = np.array(pil_image)\n",
    "\t\tend = time.time()\n",
    "\t\timage_conversion_time += end-start\n",
    "\t\tstart = time.time()\n",
    "\t\tmetrics = metrics + np.asarray([metric.PSNR(hazy_input_image,enhanced_image),metric.SSIM(hazy_input_image,enhanced_image)])\n",
    "\t\tend = time.time()\n",
    "\t\tmetric_time += end-start\n",
    "\tprint(\"Inference time:\",inference_time)\n",
    "\tprint(\"Metric time:\",metric_time)\n",
    "\tprint(\"Image conversion time\",image_conversion_time)\n",
    "\tprint(\"Image load time\",image_load_time)\n",
    "\treturn metrics/len(image_path)\n",
    "def dehaze_test_fast(image_path,weight):\n",
    "\tmetrics = np.asarray([0,0])\n",
    "\tinference_time = 0\n",
    "\tmetric_time = 0\n",
    "\timage_conversion_time = 0\n",
    "\timage_load_time = 0\n",
    "\tfor input in image_path:\n",
    "\t\tstart = time.time()\n",
    "\t\thazy_input_image = Image.open(input)\n",
    "\t\tend = time.time()\n",
    "\t\timage_load_time += end-start\n",
    "\t\tstart = time.time()\n",
    "\t\tdehaze_image = image_haze_removel(hazy_input_image,weight)\n",
    "\t\tend = time.time()\n",
    "\t\tinference_time += end-start\n",
    "\t\t# torchvision.utils.save_image(dehaze_image, \"dehaze.jpg\")\n",
    "\t\tstart = time.time()\n",
    "\t\ttensor_image = dehaze_image  # Your tensor image\n",
    "\t\ttensor_image = tensor_image.cpu()  # Move tensor to CPU if it's on GPU\n",
    "\t\ttensor_image = tensor_image.squeeze(0)  # Remove the batch dimension if present\n",
    "\n",
    "\t\t# Convert the tensor to a PIL image\n",
    "\t\tto_pil = ToPILImage()\n",
    "\t\tpil_image = to_pil(tensor_image)\n",
    "\t\t# hazy_input_image.show()\n",
    "\t\t# pil_image.show()\n",
    "\n",
    "\t\thazy_input_image = np.array(hazy_input_image)\n",
    "\t\tenhanced_image = np.array(pil_image)\n",
    "\t\tend = time.time()\n",
    "\t\timage_conversion_time += end-start\n",
    "\t\tstart = time.time()\n",
    "\t\tmetrics = metrics + np.asarray([PSNR(hazy_input_image,enhanced_image),SSIM(hazy_input_image,enhanced_image)])\n",
    "\t\tend = time.time()\n",
    "\t\tmetric_time += end-start\n",
    "\tprint(\"Inference time:\",inference_time)\n",
    "\tprint(\"Metric time:\",metric_time)\n",
    "\tprint(\"Image conversion time\",image_conversion_time)\n",
    "\tprint(\"Image load time\",image_load_time)\n",
    "\treturn metrics/len(image_path)\n",
    "\n",
    "def dehaze_test_preload(image_path,weight):\n",
    "\tmetrics = np.asarray([0,0])\n",
    "\tld_net = lightdehazeNet.LightDehaze_Net().cuda()\n",
    "\tld_net.load_state_dict(weight)\n",
    "\tfor input in image_path:\n",
    "\t\thazy_input_image = Image.open(input)\n",
    "\t\tdehaze_image = image_haze_removal(hazy_input_image,ld_net)\n",
    "\t\t# torchvision.utils.save_image(dehaze_image, \"dehaze.jpg\")\n",
    "\t\ttensor_image = dehaze_image  # Your tensor image\n",
    "\t\ttensor_image = tensor_image.cpu()  # Move tensor to CPU if it's on GPU\n",
    "\t\ttensor_image = tensor_image.squeeze(0)  # Remove the batch dimension if present\n",
    "\n",
    "\t\t# Convert the tensor to a PIL image\n",
    "\t\tto_pil = ToPILImage()\n",
    "\t\tpil_image = to_pil(tensor_image)\n",
    "\t\t# hazy_input_image.show()\n",
    "\t\t# pil_image.show()\n",
    "\n",
    "\t\thazy_input_image = np.array(hazy_input_image)\n",
    "\t\tenhanced_image = np.array(pil_image)\n",
    "\t\tmetrics = metrics + np.asarray([PSNR(hazy_input_image,enhanced_image),SSIM(hazy_input_image,enhanced_image)])\n",
    "\treturn metrics/len(image_path)\n",
    "\n",
    "def dehaze_test_torch(image_path,weight):\n",
    "\tpsnr = PeakSignalNoiseRatio().to('cuda:0')\n",
    "\tssim = MultiScaleStructuralSimilarityIndexMeasure(data_range=1.0).to('cuda:0')\n",
    "\tmetrics = np.asarray([0,0])\n",
    "\tfor input in image_path:\n",
    "\t\thazy_input_image = Image.open(input)\n",
    "\t\thazy_input_image_tensor = ((torchvision.transforms.functional.pil_to_tensor(hazy_input_image)).cuda()).unsqueeze(0)\n",
    "\t\tdehaze_image = image_haze_removel(hazy_input_image,weight)\n",
    "\t\t# torchvision.utils.save_image(dehaze_image, \"dehaze.jpg\")\n",
    "\t\ttf_image = dehaze_image\n",
    "\t\ttensor_image = dehaze_image  # Your tensor image\n",
    "\t\ttensor_image = tensor_image.cpu()  # Move tensor to CPU if it's on GPU\n",
    "\t\ttensor_image = tensor_image.squeeze(0)  # Remove the batch dimension if present\n",
    "\n",
    "\t\t# Convert the tensor to a PIL image\n",
    "\t\tto_pil = ToPILImage()\n",
    "\t\tpil_image = to_pil(tensor_image)\n",
    "\t\t# hazy_input_image.show()\n",
    "\t\t# pil_image.show()\n",
    "\t\tmetrics = metrics + np.asarray([psnr(tf_image, hazy_input_image_tensor).cpu().detach().numpy(),ssim(tf_image, hazy_input_image_tensor).cpu().detach().numpy()])\n",
    "\treturn metrics/len(image_path)"
   ]
  },
  {
   "cell_type": "code",
   "execution_count": 4,
   "metadata": {
    "executionInfo": {
     "elapsed": 817,
     "status": "ok",
     "timestamp": 1688490837047,
     "user": {
      "displayName": "carlos alfredo",
      "userId": "13899691815169459528"
     },
     "user_tz": 180
    },
    "id": "a-yj-l9I8RKe"
   },
   "outputs": [],
   "source": [
    "def list_split(original_list,number_of_splits):\n",
    "    sub_list = []\n",
    "    split = []\n",
    "    number_of_elements = len(original_list)\n",
    "    split_size = int(number_of_elements/number_of_splits)\n",
    "    extra_elements = number_of_elements%number_of_splits\n",
    "    last_element = 0\n",
    "    for i in range(0,number_of_splits):\n",
    "        if i < extra_elements:\n",
    "            sub_list.append(original_list[last_element:last_element+split_size+1])\n",
    "            last_element = last_element+split_size+1\n",
    "        else:\n",
    "            sub_list.append(original_list[last_element:last_element+split_size])\n",
    "            last_element = last_element+split_size\n",
    "    return sub_list"
   ]
  },
  {
   "cell_type": "code",
   "execution_count": 5,
   "metadata": {
    "colab": {
     "base_uri": "https://localhost:8080/"
    },
    "executionInfo": {
     "elapsed": 88546,
     "status": "ok",
     "timestamp": 1688490933485,
     "user": {
      "displayName": "carlos alfredo",
      "userId": "13899691815169459528"
     },
     "user_tz": 180
    },
    "id": "sW1yUBug-KGb",
    "outputId": "ccec5eb7-9571-4e92-fd23-d9524bbbd468"
   },
   "outputs": [
    {
     "name": "stdout",
     "output_type": "stream",
     "text": [
      "-> Round  0\n",
      "New apex detected!\n",
      "1\n",
      "Round time:  85.08977699279785\n"
     ]
    }
   ],
   "source": [
    "importlib.reload(evolution)\n",
    "\n",
    "weight = torch.load(code_path+'/trained_weights/trained_LDNet.pth')\n",
    "# weight_cpu = torch.load('C:/Users/carlo/Documents/GitHub/Mestrado/Codigo/trained_weights/trained_LDNet.pth',map_location='cpu')\n",
    "\n",
    "img_path = []\n",
    "for file in os.listdir(path_xray_images):\n",
    "\timg_path.append(path_xray_images+file)\n",
    "\n",
    "random.shuffle(img_path)\n",
    "\n",
    "imt_path_train = img_path[0:50]\n",
    "\n",
    "img_path_test = img_path[50:66]\n",
    "\n",
    "evolutionProcess = evolution.EvolutionaryProcess(weight,25,5,0.05,5,imt_path_train)\n",
    "start = time.time()\n",
    "print(evolutionProcess.evolve(1))\n",
    "end = time.time()\n",
    "print(\"Round time: \",end-start)\n",
    "# optimized_weight = evolutionProcess.return_apex()"
   ]
  },
  {
   "cell_type": "code",
   "execution_count": 13,
   "metadata": {
    "colab": {
     "base_uri": "https://localhost:8080/"
    },
    "executionInfo": {
     "elapsed": 470396,
     "status": "ok",
     "timestamp": 1688500080318,
     "user": {
      "displayName": "carlos alfredo",
      "userId": "13899691815169459528"
     },
     "user_tz": 180
    },
    "id": "Itedt3vWk0Aw",
    "outputId": "a60cfb69-a1d4-4f2f-aa02-3b54cb51fe91"
   },
   "outputs": [
    {
     "name": "stdout",
     "output_type": "stream",
     "text": [
      "-> Round  101\n",
      "New apex detected!\n",
      "1\n",
      "Round time:  71.94216084480286\n",
      "-> Round  102\n",
      "New apex detected!\n",
      "1\n",
      "Round time:  71.79144406318665\n",
      "-> Round  103\n",
      "New apex detected!\n",
      "1\n",
      "Round time:  71.09495115280151\n",
      "-> Round  104\n",
      "New apex detected!\n",
      "1\n",
      "Round time:  71.86347198486328\n",
      "-> Round  105\n",
      "New apex detected!\n",
      "1\n",
      "Round time:  71.2573230266571\n",
      "-> Round  106\n",
      "New apex detected!\n",
      "1\n",
      "Round time:  71.43632650375366\n",
      "-> Round  107\n",
      "New apex detected!\n",
      "1\n",
      "Round time:  70.82896518707275\n",
      "-> Round  108\n",
      "New apex detected!\n",
      "1\n",
      "Round time:  71.28805780410767\n",
      "-> Round  109\n",
      "New apex detected!\n",
      "1\n",
      "Round time:  70.79512667655945\n",
      "-> Round  110\n",
      "New apex detected!\n",
      "1\n",
      "Round time:  70.73326182365417\n",
      "-> Round  111\n",
      "New apex detected!\n",
      "1\n",
      "Round time:  71.28362274169922\n",
      "-> Round  112\n",
      "New apex detected!\n",
      "1\n",
      "Round time:  72.40359163284302\n",
      "-> Round  113\n",
      "New apex detected!\n",
      "1\n",
      "Round time:  71.32661509513855\n",
      "-> Round  114\n",
      "New apex detected!\n",
      "1\n",
      "Round time:  71.64821934700012\n",
      "-> Round  115\n",
      "There was no improvement this round!\n",
      "1\n",
      "Round time:  71.74880981445312\n",
      "-> Round  116\n",
      "New apex detected!\n",
      "1\n",
      "Round time:  71.99469900131226\n",
      "-> Round  117\n",
      "New apex detected!\n",
      "1\n",
      "Round time:  71.31023573875427\n",
      "-> Round  118\n",
      "New apex detected!\n",
      "1\n",
      "Round time:  71.55472207069397\n",
      "-> Round  119\n",
      "New apex detected!\n",
      "1\n",
      "Round time:  71.31682777404785\n",
      "-> Round  120\n",
      "New apex detected!\n",
      "1\n",
      "Round time:  71.7485122680664\n",
      "-> Round  121\n",
      "New apex detected!\n",
      "1\n",
      "Round time:  71.56989645957947\n",
      "-> Round  122\n",
      "New apex detected!\n",
      "1\n",
      "Round time:  71.84058475494385\n",
      "-> Round  123\n",
      "New apex detected!\n",
      "1\n",
      "Round time:  71.27402114868164\n",
      "-> Round  124\n",
      "New apex detected!\n",
      "1\n",
      "Round time:  70.87152218818665\n",
      "-> Round  125\n",
      "New apex detected!\n",
      "1\n",
      "Round time:  70.48051714897156\n"
     ]
    }
   ],
   "source": [
    "not_saturated = 1\n",
    "for i in range(0,25):\n",
    "  start = time.time()\n",
    "  if(not_saturated == 1):\n",
    "    not_saturated = evolutionProcess.evolve(2)\n",
    "  print(not_saturated)\n",
    "  end = time.time()\n",
    "  print(\"Round time: \",end-start)"
   ]
  },
  {
   "cell_type": "code",
   "execution_count": 14,
   "metadata": {
    "colab": {
     "base_uri": "https://localhost:8080/"
    },
    "executionInfo": {
     "elapsed": 10267,
     "status": "ok",
     "timestamp": 1688500108876,
     "user": {
      "displayName": "carlos alfredo",
      "userId": "13899691815169459528"
     },
     "user_tz": 180
    },
    "id": "IQlK_dkeY2yG",
    "outputId": "6df92121-7c9e-43ed-9cd9-efa8e67d2f2b"
   },
   "outputs": [
    {
     "name": "stdout",
     "output_type": "stream",
     "text": [
      "[12.44543203  0.54542834]\n",
      "[12.83366662  0.58704275]\n",
      "[16.48728304  0.71157097]\n",
      "[17.08389372  0.75092036]\n",
      "126\n"
     ]
    }
   ],
   "source": [
    "original_weight = torch.load(code_path+'/trained_weights/trained_LDNet.pth')\n",
    "\n",
    "print(dehaze_test_preload(imt_path_train,original_weight))\n",
    "print(dehaze_test_preload(img_path_test,original_weight))\n",
    "\n",
    "new_weight = original_weight\n",
    "new_weight['e_conv_layer8.weight'] = evolutionProcess.return_apex()\n",
    "\n",
    "print(dehaze_test_preload(imt_path_train,new_weight))\n",
    "print(dehaze_test_preload(img_path_test,new_weight))\n",
    "\n",
    "print(len(evolutionProcess.return_apex_timeline()))"
   ]
  },
  {
   "cell_type": "code",
   "execution_count": 12,
   "metadata": {
    "colab": {
     "base_uri": "https://localhost:8080/"
    },
    "executionInfo": {
     "elapsed": 10184,
     "status": "ok",
     "timestamp": 1688498287783,
     "user": {
      "displayName": "carlos alfredo",
      "userId": "13899691815169459528"
     },
     "user_tz": 180
    },
    "id": "tlLxPyL93OXy",
    "outputId": "9a21a87f-33bf-4b2e-cc14-70485df8e43e"
   },
   "outputs": [
    {
     "name": "stdout",
     "output_type": "stream",
     "text": [
      "[12.44543203  0.54542834]\n",
      "[12.83366662  0.58704275]\n",
      "[16.48270548  0.71154877]\n",
      "[17.07812101  0.75087926]\n",
      "101\n"
     ]
    }
   ],
   "source": [
    "original_weight = torch.load(code_path+'/trained_weights/trained_LDNet.pth')\n",
    "\n",
    "print(dehaze_test_preload(imt_path_train,original_weight))\n",
    "print(dehaze_test_preload(img_path_test,original_weight))\n",
    "\n",
    "new_weight = original_weight\n",
    "new_weight['e_conv_layer8.weight'] = evolutionProcess.return_apex()\n",
    "\n",
    "print(dehaze_test_preload(imt_path_train,new_weight))\n",
    "print(dehaze_test_preload(img_path_test,new_weight))\n",
    "\n",
    "print(len(evolutionProcess.return_apex_timeline()))"
   ]
  },
  {
   "cell_type": "code",
   "execution_count": 28,
   "metadata": {
    "colab": {
     "base_uri": "https://localhost:8080/",
     "height": 486
    },
    "executionInfo": {
     "elapsed": 1619,
     "status": "ok",
     "timestamp": 1688502998704,
     "user": {
      "displayName": "carlos alfredo",
      "userId": "13899691815169459528"
     },
     "user_tz": 180
    },
    "id": "HZX_nO0Bc9TL",
    "outputId": "4d8e83bb-f3c0-42ec-ac32-b4b2b40394ad"
   },
   "outputs": [
    {
     "data": {
      "image/png": "[encoded data removed]",
      "text/plain": [
       "<Figure size 640x480 with 2 Axes>"
      ]
     },
     "metadata": {},
     "output_type": "display_data"
    }
   ],
   "source": [
    "# psnr_train = []\n",
    "# psnr_test = []\n",
    "# ssim_train = []\n",
    "# ssim_test = []\n",
    "# apex_weight = original_weight = torch.load(code_path+'/trained_weights/trained_LDNet.pth')\n",
    "# for weight in evolutionProcess.return_apex_timeline():\n",
    "#   apex_weight['e_conv_layer8.weight'] = weight\n",
    "#   metrics_train = dehaze_test_preload(imt_path_train,apex_weight)\n",
    "#   psnr_train.append(metrics_train[0])\n",
    "#   ssim_train.append(metrics_train[1])\n",
    "#   metrics_test = dehaze_test_preload(img_path_test,apex_weight)\n",
    "#   psnr_test.append(metrics_test[0])\n",
    "#   ssim_test.append(metrics_test[1])\n",
    "\n",
    "plt.subplot(2,1,1)\n",
    "plt.plot(range(len(psnr_train[0:80])),psnr_train[0:80],'-',color='red')\n",
    "plt.plot(range(len(psnr_test[0:80])),psnr_test[0:80],'-',color='blue')\n",
    "plt.legend([\"PSNR in Training dataset\",\"PSNR in Testing dataset\"])\n",
    "plt.xlabel(\"Generations\")\n",
    "plt.ylabel(\"PSNR\")\n",
    "plt.subplot(2,1,2)\n",
    "plt.plot(range(len(ssim_train[0:80])),ssim_train[0:80],'-',color='red')\n",
    "plt.plot(range(len(ssim_test[0:80])),ssim_test[0:80],'-',color='blue')\n",
    "plt.legend([\"SSIM in Training dataset\",\"SSIM in Testing dataset\"])\n",
    "plt.xlabel(\"Generations\")\n",
    "plt.ylabel(\"SSIM\")\n",
    "plt.tight_layout()\n",
    "plt.savefig(code_path+'ApexTimeline')\n",
    "plt.show()"
   ]
  },
  {
   "cell_type": "code",
   "execution_count": null,
   "metadata": {
    "colab": {
     "base_uri": "https://localhost:8080/"
    },
    "executionInfo": {
     "elapsed": 28915,
     "status": "ok",
     "timestamp": 1688320385521,
     "user": {
      "displayName": "carlos alfredo",
      "userId": "13899691815169459528"
     },
     "user_tz": 180
    },
    "id": "S1b2t6oF8RKj",
    "outputId": "95d933aa-77ae-4071-f2dd-a4c12a68716a"
   },
   "outputs": [
    {
     "name": "stdout",
     "output_type": "stream",
     "text": [
      "[12.53954983  0.5555167 ]\n",
      "9.937772750854492\n",
      "Inference time: 1.919217824935913\n",
      "Metric time: 7.492076396942139\n",
      "Image conversion time 5.235415458679199\n",
      "Image load time 0.10261893272399902\n",
      "[12.51152636  0.55359647]\n",
      "14.753395080566406\n"
     ]
    }
   ],
   "source": [
    "importlib.reload(metric)\n",
    "\n",
    "# path = \"C:/Users/carlo/Documents/GitHub/ProjetoPecem/imagens_nao_rotuladas/all/\"\n",
    "\n",
    "weight = torch.load(code_path+'/trained_weights/trained_LDNet.pth')\n",
    "\n",
    "path = path_xray_images\n",
    "\n",
    "path_list = []\n",
    "for file in os.listdir(path):\n",
    "\tpath_list.append(path+file)\n",
    "\n",
    "#path = \"C:/Users/carlo/Documents/GitHub/Mestrado/Codigo/SOTS/indoor/gt/\"\n",
    "#for file in os.listdir(path):\n",
    "#\tpath_list.append(path+file)\n",
    "#path = \"C:/Users/carlo/Documents/GitHub/Mestrado/Codigo/SOTS/indoor/hazy/\"\n",
    "#for file in os.listdir(path):\n",
    "#\tpath_list.append(path+file)\n",
    "#path = \"C:/Users/carlo/Documents/GitHub/Mestrado/Codigo/SOTS/outdoor/gt/\"\n",
    "#for file in os.listdir(path):\n",
    "#\tpath_list.append(path+file)\n",
    "#path = \"C:/Users/carlo/Documents/GitHub/Mestrado/Codigo/SOTS/outdoor/hazy/\"\n",
    "#for file in os.listdir(path):\n",
    "#\tpath_list.append(path+file)\n",
    "start = time.time()\n",
    "print(dehaze_test_preload(path_list,weight))\n",
    "end = time.time()\n",
    "print(end - start)\n",
    "start = time.time()\n",
    "print(dehaze_test(path_list,weight))\n",
    "end = time.time()\n",
    "print(end - start)\n",
    "\n"
   ]
  },
  {
   "cell_type": "code",
   "execution_count": null,
   "metadata": {
    "colab": {
     "base_uri": "https://localhost:8080/",
     "height": 253
    },
    "executionInfo": {
     "elapsed": 673,
     "status": "error",
     "timestamp": 1688310592193,
     "user": {
      "displayName": "carlos alfredo",
      "userId": "13899691815169459528"
     },
     "user_tz": 180
    },
    "id": "TGVuGMUw8RKf",
    "outputId": "2d993d95-4aef-41a6-9f9d-d239143c858a"
   },
   "outputs": [
    {
     "ename": "FileNotFoundError",
     "evalue": "ignored",
     "output_type": "error",
     "traceback": [
      "\u001b[0;31m---------------------------------------------------------------------------\u001b[0m",
      "\u001b[0;31mFileNotFoundError\u001b[0m                         Traceback (most recent call last)",
      "\u001b[0;32m<ipython-input-39-9992e6baf07c>\u001b[0m in \u001b[0;36m<cell line: 8>\u001b[0;34m()\u001b[0m\n\u001b[1;32m      6\u001b[0m \u001b[0;34m\u001b[0m\u001b[0m\n\u001b[1;32m      7\u001b[0m \u001b[0mpath_list\u001b[0m \u001b[0;34m=\u001b[0m \u001b[0;34m[\u001b[0m\u001b[0;34m]\u001b[0m\u001b[0;34m\u001b[0m\u001b[0;34m\u001b[0m\u001b[0m\n\u001b[0;32m----> 8\u001b[0;31m \u001b[0;32mfor\u001b[0m \u001b[0mfile\u001b[0m \u001b[0;32min\u001b[0m \u001b[0mos\u001b[0m\u001b[0;34m.\u001b[0m\u001b[0mlistdir\u001b[0m\u001b[0;34m(\u001b[0m\u001b[0mpath\u001b[0m\u001b[0;34m)\u001b[0m\u001b[0;34m:\u001b[0m\u001b[0;34m\u001b[0m\u001b[0;34m\u001b[0m\u001b[0m\n\u001b[0m\u001b[1;32m      9\u001b[0m         \u001b[0mpath_list\u001b[0m\u001b[0;34m.\u001b[0m\u001b[0mappend\u001b[0m\u001b[0;34m(\u001b[0m\u001b[0mpath\u001b[0m\u001b[0;34m+\u001b[0m\u001b[0mfile\u001b[0m\u001b[0;34m)\u001b[0m\u001b[0;34m\u001b[0m\u001b[0;34m\u001b[0m\u001b[0m\n\u001b[1;32m     10\u001b[0m \u001b[0;34m\u001b[0m\u001b[0m\n",
      "\u001b[0;31mFileNotFoundError\u001b[0m: [Errno 2] No such file or directory: 'C:/Users/carlo/Documents/GitHub/Mestrado/Codigo/img_teste/'"
     ]
    }
   ],
   "source": [
    "importlib.reload(evolution)\n",
    "\n",
    "path = \"C:/Users/carlo/Documents/GitHub/Mestrado/Codigo/img_teste/\"\n",
    "\n",
    "weight = torch.load(code_path+'/trained_weights/trained_LDNet.pth')\n",
    "\n",
    "path_list = []\n",
    "for file in os.listdir(path):\n",
    "\tpath_list.append(path+file)\n",
    "\n",
    "path_split = list_split(path_list,4)\n",
    "\n",
    "argument_splited=[]\n",
    "for i in range(0,len(path_split)):\n",
    "    argument_splited.append((path_split[i],weight))\n",
    "\n",
    "pool = mp.Pool(processes=4)\n",
    "start = time.time()\n",
    "results = pool.map(dehaze_test, argument_splited)\n",
    "pool.close()\n",
    "pool.join()\n",
    "print(results)"
   ]
  },
  {
   "cell_type": "code",
   "execution_count": null,
   "metadata": {
    "colab": {
     "base_uri": "https://localhost:8080/"
    },
    "executionInfo": {
     "elapsed": 218999,
     "status": "ok",
     "timestamp": 1688404955511,
     "user": {
      "displayName": "carlos alfredo",
      "userId": "13899691815169459528"
     },
     "user_tz": 180
    },
    "id": "zFTKwSis-shv",
    "outputId": "66c0aaa5-f33d-4ea9-8345-ef4ae561ebe5",
    "scrolled": true
   },
   "outputs": [
    {
     "name": "stdout",
     "output_type": "stream",
     "text": [
      "-> Round  1\n",
      "There was no improvement this round!\n",
      "217.32172870635986\n"
     ]
    }
   ],
   "source": [
    "start = time.time()\n",
    "evolutionProcess.evolve(1)\n",
    "end = time.time()\n",
    "print(end - start)"
   ]
  },
  {
   "cell_type": "code",
   "execution_count": 32,
   "metadata": {
    "colab": {
     "base_uri": "https://localhost:8080/"
    },
    "executionInfo": {
     "elapsed": 1984,
     "status": "ok",
     "timestamp": 1688503581219,
     "user": {
      "displayName": "carlos alfredo",
      "userId": "13899691815169459528"
     },
     "user_tz": 180
    },
    "id": "95kT4pP18RKj",
    "outputId": "dc870122-7f91-43d0-90b9-1c7bbd89bc6e",
    "scrolled": true
   },
   "outputs": [
    {
     "name": "stdout",
     "output_type": "stream",
     "text": [
      "[22.66176653  0.84206952]\n"
     ]
    }
   ],
   "source": [
    "from enhancement_algorithms import UM,HEF,CLAHE\n",
    "importlib.reload(metric)\n",
    "import cv2\n",
    "\n",
    "def dehaze_test_CLAHE(image_path):\n",
    "\tmetrics = np.asarray([0,0])\n",
    "\tfor image_input in image_path:\n",
    "\t\thazy_input_image = cv2.imread(image_input,cv2.IMREAD_GRAYSCALE)\n",
    "\n",
    "\t\tdehaze_image = CLAHE(hazy_input_image,2,8)\n",
    "\t\thazy_input_image = cv2.cvtColor(hazy_input_image, cv2.COLOR_GRAY2RGB)\n",
    "\t\tdehaze_image = cv2.cvtColor(dehaze_image, cv2.COLOR_GRAY2RGB)\n",
    "\t\tmetrics = metrics + np.asarray([PSNR(hazy_input_image,dehaze_image,max_value=255),SSIM(hazy_input_image,dehaze_image,max_value=255)])\n",
    "\treturn metrics/len(image_path)\n",
    "\n",
    "# path = \"C:/Users/carlo/Documents/GitHub/Mestrado/Codigo/img_teste/\"\n",
    "# # path = \"C:/Users/carlo/Documents/GitHub/ProjetoPecem/imagens_nao_rotuladas/all/\"\n",
    "\n",
    "# weight = torch.load('C:/Users/carlo/Documents/GitHub/Mestrado/Codigo/trained_weights/trained_LDNet.pth')\n",
    "\n",
    "# path_list = []\n",
    "# for file in os.listdir(path):\n",
    "# \tpath_list.append(path+file)\n",
    "\n",
    "# device = [  path+ \"017.jpg\",path+ \"018.jpg\",path+ \"019.jpg\",path+ \"020.jpg\",path+ \"021.jpg\",path+ \"022.jpg\",\n",
    "#             path+ \"023.jpg\",path+ \"024.jpg\",path+ \"001.jpg\", path+ \"002.jpg\",path+ \"003.jpg\",path+ \"004.jpg\",\n",
    "#             path+ \"005.jpg\",path+ \"006.jpg\",path+ \"007.jpg\",path+ \"008.jpg\",path+ \"009.jpg\",path+ \"010.jpg\",\n",
    "#             path+ \"011.jpg\",path+ \"012.jpg\",path+ \"013.jpg\",path+ \"014.jpg\",path+ \"015.jpg\",path+ \"016.jpg\",\n",
    "#             path+ \"025.jpg\", path+ \"026.jpg\",path+ \"027.jpg\",path+ \"028.jpg\",path+ \"029.jpg\",path+ \"030.jpg\"]\n",
    "\n",
    "# # path_list = [path+\"Cam 077.3 - 11.10.2022 - 04h.jpg\"]\n",
    "# path_list = []\n",
    "# path = \"C:/Users/carlo/Documents/GitHub/Mestrado/Codigo/SOTS/indoor/gt/\"\n",
    "# for file in os.listdir(path):\n",
    "# \tpath_list.append(path+file)\n",
    "# path = \"C:/Users/carlo/Documents/GitHub/Mestrado/Codigo/SOTS/indoor/hazy/\"\n",
    "# for file in os.listdir(path):\n",
    "# \tpath_list.append(path+file)\n",
    "# path = \"C:/Users/carlo/Documents/GitHub/Mestrado/Codigo/SOTS/outdoor/gt/\"\n",
    "# for file in os.listdir(path):\n",
    "# \tpath_list.append(path+file)\n",
    "# path = \"C:/Users/carlo/Documents/GitHub/Mestrado/Codigo/SOTS/outdoor/hazy/\"\n",
    "# for file in os.listdir(path):\n",
    "# \tpath_list.append(path+file)\n",
    "\n",
    "print(dehaze_test_CLAHE(img_path_test))"
   ]
  },
  {
   "cell_type": "code",
   "execution_count": null,
   "metadata": {
    "colab": {
     "base_uri": "https://localhost:8080/"
    },
    "executionInfo": {
     "elapsed": 539,
     "status": "ok",
     "timestamp": 1688396674430,
     "user": {
      "displayName": "carlos alfredo",
      "userId": "13899691815169459528"
     },
     "user_tz": 180
    },
    "id": "7mbn-anf8RKk",
    "outputId": "91ef25e2-6e07-4570-ebae-c14fd21f1cc1"
   },
   "outputs": [
    {
     "name": "stdout",
     "output_type": "stream",
     "text": [
      "[3, 4] [2, 1]\n"
     ]
    }
   ],
   "source": [
    "teste = [1,2,3,4]\n",
    "import random\n",
    "random.shuffle(teste)\n",
    "print(teste[0:2],teste[2:4])"
   ]
  },
  {
   "cell_type": "code",
   "execution_count": null,
   "metadata": {
    "id": "CxQM6l1B8RKk"
   },
   "outputs": [],
   "source": []
  }
 ],
 "metadata": {
  "accelerator": "GPU",
  "colab": {
   "gpuType": "V100",
   "machine_shape": "hm",
   "provenance": []
  },
  "kernelspec": {
   "display_name": "Python 3 (ipykernel)",
   "language": "python",
   "name": "python3"
  },
  "language_info": {
   "codemirror_mode": {
    "name": "ipython",
    "version": 3
   },
   "file_extension": ".py",
   "mimetype": "text/x-python",
   "name": "python",
   "nbconvert_exporter": "python",
   "pygments_lexer": "ipython3",
   "version": "3.10.4"
  }
 },
 "nbformat": 4,
 "nbformat_minor": 1
}
